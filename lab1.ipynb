{
 "cells": [
  {
   "cell_type": "markdown",
   "metadata": {
    "id": "9mhoVgznl-Z1"
   },
   "source": [
    "###**Лабораторная работа 1. Сверточные сети**"
   ]
  },
  {
   "cell_type": "code",
   "execution_count": null,
   "metadata": {
    "id": "X1BeCJUAnQZ_"
   },
   "outputs": [],
   "source": [
    "import tensorflow as tf\n",
    "import matplotlib.pyplot as plt\n",
    "import numpy as np\n",
    "from tensorflow.keras import datasets, layers, models"
   ]
  },
  {
   "cell_type": "code",
   "execution_count": null,
   "metadata": {
    "colab": {
     "base_uri": "https://localhost:8080/"
    },
    "id": "KCWFVPOEoGMs",
    "outputId": "ce2d23f6-8e96-4da9-9e1c-29b1a587a7c7"
   },
   "outputs": [
    {
     "name": "stdout",
     "output_type": "stream",
     "text": [
      "Downloading data from https://storage.googleapis.com/tensorflow/tf-keras-datasets/mnist.npz\n",
      "11493376/11490434 [==============================] - 0s 0us/step\n"
     ]
    }
   ],
   "source": [
    "mnist = tf.keras.datasets.mnist\n",
    "(x_train, y_train), (x_test, y_test) = mnist.load_data()\n",
    "x_train, x_test = x_train[..., np.newaxis]/255.0, x_test[..., np.newaxis]/255.0"
   ]
  },
  {
   "cell_type": "code",
   "execution_count": null,
   "metadata": {
    "id": "JW13LYNooU0K"
   },
   "outputs": [],
   "source": [
    "def filter_36(x, y):\n",
    "    keep = (y == 3) | (y == 6)\n",
    "    x, y = x[keep], y[keep]\n",
    "    y = y == 3\n",
    "    return x,y"
   ]
  },
  {
   "cell_type": "code",
   "execution_count": null,
   "metadata": {
    "id": "UA6h6oKBoiL5"
   },
   "outputs": [],
   "source": [
    "x_train, y_train = filter_36(x_train, y_train)\n",
    "x_test, y_test = filter_36(x_test, y_test)"
   ]
  },
  {
   "cell_type": "code",
   "execution_count": null,
   "metadata": {
    "colab": {
     "base_uri": "https://localhost:8080/"
    },
    "id": "ZKP_rrG7op27",
    "outputId": "18739b01-6988-440a-9c3a-f09a35a549b7"
   },
   "outputs": [
    {
     "name": "stdout",
     "output_type": "stream",
     "text": [
      "Number of filtered training examples: 12049\n",
      "Number of filtered test examples: 1968\n"
     ]
    }
   ],
   "source": [
    "print(\"Number of filtered training examples:\", len(x_train))\n",
    "print(\"Number of filtered test examples:\", len(x_test))"
   ]
  },
  {
   "cell_type": "code",
   "execution_count": null,
   "metadata": {
    "id": "PGhDvn0Fov4N"
   },
   "outputs": [],
   "source": [
    "model = tf.keras.Sequential()\n",
    "\n",
    "model.add(tf.keras.layers.Conv2D(32, [3, 3], activation='relu', \n",
    "                                 input_shape=(28,28,1)))\n",
    "model.add(tf.keras.layers.Conv2D(64, [3, 3], activation='relu'))\n",
    "model.add(tf.keras.layers.MaxPooling2D(pool_size=(2, 2)))\n",
    "model.add(tf.keras.layers.Dropout(0.25))\n",
    "model.add(tf.keras.layers.Flatten())\n",
    "model.add(tf.keras.layers.Dense(128, activation='relu'))\n",
    "model.add(tf.keras.layers.Dropout(0.5))\n",
    "model.add(tf.keras.layers.Dense(1))"
   ]
  },
  {
   "cell_type": "code",
   "execution_count": null,
   "metadata": {
    "id": "yDmH-RL3o49z"
   },
   "outputs": [],
   "source": [
    "model.compile(loss=tf.keras.losses.BinaryCrossentropy(from_logits=True),\n",
    "              optimizer=tf.keras.optimizers.Adam(),\n",
    "              metrics=['accuracy'])"
   ]
  },
  {
   "cell_type": "code",
   "execution_count": null,
   "metadata": {
    "colab": {
     "base_uri": "https://localhost:8080/"
    },
    "id": "vMdo2fFcpA3q",
    "outputId": "8bc25385-7f1f-4f84-910e-17c86f17b3d1"
   },
   "outputs": [
    {
     "name": "stdout",
     "output_type": "stream",
     "text": [
      "Model: \"sequential_1\"\n",
      "_________________________________________________________________\n",
      "Layer (type)                 Output Shape              Param #   \n",
      "=================================================================\n",
      "conv2d_2 (Conv2D)            (None, 26, 26, 32)        320       \n",
      "_________________________________________________________________\n",
      "conv2d_3 (Conv2D)            (None, 24, 24, 64)        18496     \n",
      "_________________________________________________________________\n",
      "max_pooling2d_1 (MaxPooling2 (None, 12, 12, 64)        0         \n",
      "_________________________________________________________________\n",
      "dropout_2 (Dropout)          (None, 12, 12, 64)        0         \n",
      "_________________________________________________________________\n",
      "flatten_1 (Flatten)          (None, 9216)              0         \n",
      "_________________________________________________________________\n",
      "dense_2 (Dense)              (None, 128)               1179776   \n",
      "_________________________________________________________________\n",
      "dropout_3 (Dropout)          (None, 128)               0         \n",
      "_________________________________________________________________\n",
      "dense_3 (Dense)              (None, 1)                 129       \n",
      "=================================================================\n",
      "Total params: 1,198,721\n",
      "Trainable params: 1,198,721\n",
      "Non-trainable params: 0\n",
      "_________________________________________________________________\n"
     ]
    }
   ],
   "source": [
    "model.summary()"
   ]
  },
  {
   "cell_type": "code",
   "execution_count": null,
   "metadata": {
    "colab": {
     "base_uri": "https://localhost:8080/"
    },
    "id": "awBusa1epGK6",
    "outputId": "cafb90f7-3e36-48de-97f0-b63a66320bf1"
   },
   "outputs": [
    {
     "name": "stdout",
     "output_type": "stream",
     "text": [
      "Epoch 1/10\n",
      "95/95 [==============================] - 28s 296ms/step - loss: 0.0390 - accuracy: 0.9861 - val_loss: 0.0024 - val_accuracy: 0.9990\n",
      "Epoch 2/10\n",
      "95/95 [==============================] - 28s 295ms/step - loss: 0.0051 - accuracy: 0.9987 - val_loss: 0.0016 - val_accuracy: 1.0000\n",
      "Epoch 3/10\n",
      "95/95 [==============================] - 28s 295ms/step - loss: 0.0018 - accuracy: 0.9996 - val_loss: 0.0037 - val_accuracy: 0.9990\n",
      "Epoch 4/10\n",
      "95/95 [==============================] - 28s 294ms/step - loss: 0.0018 - accuracy: 0.9995 - val_loss: 3.9839e-04 - val_accuracy: 1.0000\n",
      "Epoch 5/10\n",
      "95/95 [==============================] - 28s 294ms/step - loss: 7.3347e-04 - accuracy: 0.9998 - val_loss: 5.4433e-04 - val_accuracy: 1.0000\n",
      "Epoch 6/10\n",
      "95/95 [==============================] - 28s 295ms/step - loss: 3.9694e-04 - accuracy: 0.9999 - val_loss: 4.4750e-04 - val_accuracy: 1.0000\n",
      "Epoch 7/10\n",
      "95/95 [==============================] - 28s 296ms/step - loss: 4.0121e-04 - accuracy: 0.9999 - val_loss: 0.0011 - val_accuracy: 0.9995\n",
      "Epoch 8/10\n",
      "95/95 [==============================] - 28s 295ms/step - loss: 1.5480e-04 - accuracy: 1.0000 - val_loss: 4.8293e-04 - val_accuracy: 1.0000\n",
      "Epoch 9/10\n",
      "95/95 [==============================] - 28s 297ms/step - loss: 3.8076e-05 - accuracy: 1.0000 - val_loss: 1.8881e-04 - val_accuracy: 1.0000\n",
      "Epoch 10/10\n",
      "95/95 [==============================] - 28s 297ms/step - loss: 3.2940e-05 - accuracy: 1.0000 - val_loss: 4.7361e-05 - val_accuracy: 1.0000\n",
      "62/62 [==============================] - 1s 18ms/step - loss: 4.7361e-05 - accuracy: 1.0000\n"
     ]
    }
   ],
   "source": [
    "history = model.fit(x_train, y_train, batch_size=128, epochs=10, verbose=1,\n",
    "                    validation_data=(x_test, y_test))\n",
    "\n",
    "cnn_results = model.evaluate(x_test, y_test)"
   ]
  },
  {
   "cell_type": "code",
   "execution_count": null,
   "metadata": {
    "colab": {
     "base_uri": "https://localhost:8080/",
     "height": 300
    },
    "id": "cmXnWxRavMW4",
    "outputId": "e2213e52-c95e-432b-dc2f-42feba6bc785"
   },
   "outputs": [
    {
     "name": "stdout",
     "output_type": "stream",
     "text": [
      "62/62 - 1s - loss: 4.7361e-05 - accuracy: 1.0000\n"
     ]
    },
    {
     "data": {
      "image/png": "[encoded data removed]",
      "text/plain": [
       "<Figure size 432x288 with 1 Axes>"
      ]
     },
     "metadata": {
      "needs_background": "light",
      "tags": []
     },
     "output_type": "display_data"
    }
   ],
   "source": [
    "plt.plot(history.history['accuracy'], label='accuracy')\n",
    "plt.plot(history.history['val_accuracy'], label = 'val_accuracy')\n",
    "\n",
    "plt.xlabel('Epoch')\n",
    "plt.ylabel('Accuracy')\n",
    "\n",
    "plt.ylim([0.998, 1])\n",
    "plt.legend(loc='lower right')\n",
    "\n",
    "test_loss, test_acc = model.evaluate(x_test, y_test, verbose=2)"
   ]
  },
  {
   "cell_type": "markdown",
   "metadata": {
    "id": "mljcAw28vZTe"
   },
   "source": [
    "Вероятность правильного распознавания на тестовой выборке 100%"
   ]
  }
 ],
 "metadata": {
  "colab": {
   "collapsed_sections": [],
   "name": "Лабораторная работа 1",
   "provenance": [],
   "toc_visible": true
  },
  "kernelspec": {
   "display_name": "Python 3",
   "language": "python",
   "name": "python3"
  },
  "language_info": {
   "codemirror_mode": {
    "name": "ipython",
    "version": 3
   },
   "file_extension": ".py",
   "mimetype": "text/x-python",
   "name": "python",
   "nbconvert_exporter": "python",
   "pygments_lexer": "ipython3",
   "version": "3.7.4"
  }
 },
 "nbformat": 4,
 "nbformat_minor": 1
}
