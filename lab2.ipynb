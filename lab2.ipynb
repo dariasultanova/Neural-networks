{
 "cells": [
  {
   "cell_type": "markdown",
   "metadata": {
    "id": "9mhoVgznl-Z1"
   },
   "source": [
    "###**Лабораторная работа 2. Автокодировщик**"
   ]
  },
  {
   "cell_type": "code",
   "execution_count": null,
   "metadata": {
    "id": "X1BeCJUAnQZ_"
   },
   "outputs": [],
   "source": [
    "import matplotlib.pyplot as plt\n",
    "import numpy as np\n",
    "import pandas as pd\n",
    "import tensorflow as tf\n",
    "\n",
    "from tensorflow import keras\n",
    "from tensorflow.keras import layers"
   ]
  },
  {
   "cell_type": "code",
   "execution_count": null,
   "metadata": {
    "colab": {
     "base_uri": "https://localhost:8080/"
    },
    "id": "KCWFVPOEoGMs",
    "outputId": "462ea37c-8987-434e-aa5b-006864036420"
   },
   "outputs": [
    {
     "name": "stdout",
     "output_type": "stream",
     "text": [
      "Downloading data from https://storage.googleapis.com/tensorflow/tf-keras-datasets/train-labels-idx1-ubyte.gz\n",
      "32768/29515 [=================================] - 0s 0us/step\n",
      "Downloading data from https://storage.googleapis.com/tensorflow/tf-keras-datasets/train-images-idx3-ubyte.gz\n",
      "26427392/26421880 [==============================] - 0s 0us/step\n",
      "Downloading data from https://storage.googleapis.com/tensorflow/tf-keras-datasets/t10k-labels-idx1-ubyte.gz\n",
      "8192/5148 [===============================================] - 0s 0us/step\n",
      "Downloading data from https://storage.googleapis.com/tensorflow/tf-keras-datasets/t10k-images-idx3-ubyte.gz\n",
      "4423680/4422102 [==============================] - 0s 0us/step\n"
     ]
    }
   ],
   "source": [
    "num_classes = 2\n",
    "input_shape = (28, 28, 1)\n",
    "\n",
    "(x_train, y_train), (x_test, y_test) = keras.datasets.mnist.load_data()\n",
    "(x_train_f, y_train_f), (x_test_f, y_test_f) = keras.datasets.fashion_mnist.load_data()"
   ]
  },
  {
   "cell_type": "code",
   "execution_count": null,
   "metadata": {
    "id": "JW13LYNooU0K"
   },
   "outputs": [],
   "source": [
    "y_train = [0] * y_train.shape[0]\n",
    "y_test = [0] * y_test.shape[0]\n",
    "y_train_f = [1] * y_train_f.shape[0]\n",
    "y_test_f = [1] * y_test_f.shape[0]"
   ]
  },
  {
   "cell_type": "code",
   "execution_count": null,
   "metadata": {
    "id": "UA6h6oKBoiL5"
   },
   "outputs": [],
   "source": [
    "y_train.extend(y_train_f)\n",
    "x_train = x_train.tolist()\n",
    "x_train.extend(x_train_f)\n",
    "\n",
    "y_test.extend(y_test_f)\n",
    "x_test = x_test.tolist()\n",
    "x_test.extend(x_test_f)"
   ]
  },
  {
   "cell_type": "code",
   "execution_count": null,
   "metadata": {
    "id": "ZKP_rrG7op27"
   },
   "outputs": [],
   "source": [
    "x_train = np.asarray(x_train)\n",
    "y_train = np.asarray(y_train)\n",
    "\n",
    "x_test = np.asarray(x_test)\n",
    "y_test = np.asarray(y_test)"
   ]
  },
  {
   "cell_type": "code",
   "execution_count": null,
   "metadata": {
    "colab": {
     "base_uri": "https://localhost:8080/"
    },
    "id": "PGhDvn0Fov4N",
    "outputId": "b76c9860-8ded-404f-f53c-182d5d2f0f13"
   },
   "outputs": [
    {
     "name": "stdout",
     "output_type": "stream",
     "text": [
      "x_train shape: (120000, 28, 28, 1)\n",
      "120000 train samples\n",
      "20000 test samples\n"
     ]
    }
   ],
   "source": [
    "x_train = x_train.astype(\"float32\") / 255\n",
    "x_test = x_test.astype(\"float32\") / 255\n",
    "\n",
    "x_train = np.expand_dims(x_train, -1)\n",
    "x_test = np.expand_dims(x_test, -1)\n",
    "\n",
    "print(\"x_train shape:\", x_train.shape)\n",
    "print(x_train.shape[0], \"train samples\")\n",
    "print(x_test.shape[0], \"test samples\")"
   ]
  },
  {
   "cell_type": "code",
   "execution_count": null,
   "metadata": {
    "id": "yDmH-RL3o49z"
   },
   "outputs": [],
   "source": [
    "y_train = keras.utils.to_categorical(y_train, num_classes)\n",
    "y_test = keras.utils.to_categorical(y_test, num_classes)"
   ]
  },
  {
   "cell_type": "code",
   "execution_count": null,
   "metadata": {
    "colab": {
     "base_uri": "https://localhost:8080/"
    },
    "id": "vMdo2fFcpA3q",
    "outputId": "aef84d62-be38-4a8a-df95-d1a396a3937e"
   },
   "outputs": [
    {
     "name": "stdout",
     "output_type": "stream",
     "text": [
      "Model: \"sequential_2\"\n",
      "_________________________________________________________________\n",
      "Layer (type)                 Output Shape              Param #   \n",
      "=================================================================\n",
      "conv2d_4 (Conv2D)            (None, 26, 26, 32)        320       \n",
      "_________________________________________________________________\n",
      "max_pooling2d_2 (MaxPooling2 (None, 13, 13, 32)        0         \n",
      "_________________________________________________________________\n",
      "conv2d_5 (Conv2D)            (None, 11, 11, 64)        18496     \n",
      "_________________________________________________________________\n",
      "max_pooling2d_3 (MaxPooling2 (None, 5, 5, 64)          0         \n",
      "_________________________________________________________________\n",
      "flatten_2 (Flatten)          (None, 1600)              0         \n",
      "_________________________________________________________________\n",
      "dropout_4 (Dropout)          (None, 1600)              0         \n",
      "_________________________________________________________________\n",
      "dense_4 (Dense)              (None, 2)                 3202      \n",
      "=================================================================\n",
      "Total params: 22,018\n",
      "Trainable params: 22,018\n",
      "Non-trainable params: 0\n",
      "_________________________________________________________________\n"
     ]
    }
   ],
   "source": [
    "model = keras.Sequential([keras.Input(shape=input_shape),\n",
    "                         layers.Conv2D(32, kernel_size=(3, 3), activation=\"relu\"),\n",
    "                         layers.MaxPooling2D(pool_size=(2, 2)),\n",
    "                         layers.Conv2D(64, kernel_size=(3, 3), activation=\"relu\"),\n",
    "                         layers.MaxPooling2D(pool_size=(2, 2)),\n",
    "                         layers.Flatten(),\n",
    "                         layers.Dropout(0.5),\n",
    "                         layers.Dense(num_classes, activation=\"softmax\"),])\n",
    "\n",
    "model.summary()"
   ]
  },
  {
   "cell_type": "code",
   "execution_count": null,
   "metadata": {
    "colab": {
     "base_uri": "https://localhost:8080/"
    },
    "id": "awBusa1epGK6",
    "outputId": "1184e471-86cc-448b-8248-9dd8ee0df4b5"
   },
   "outputs": [
    {
     "name": "stdout",
     "output_type": "stream",
     "text": [
      "Epoch 1/10\n",
      "53/53 [==============================] - 66s 1s/step - loss: 0.2317 - accuracy: 0.8992 - val_loss: 0.0442 - val_accuracy: 0.9883\n",
      "Epoch 2/10\n",
      "53/53 [==============================] - 65s 1s/step - loss: 0.0198 - accuracy: 0.9951 - val_loss: 0.0131 - val_accuracy: 0.9973\n",
      "Epoch 3/10\n",
      "53/53 [==============================] - 65s 1s/step - loss: 0.0097 - accuracy: 0.9977 - val_loss: 0.0076 - val_accuracy: 0.9980\n",
      "Epoch 4/10\n",
      "53/53 [==============================] - 66s 1s/step - loss: 0.0064 - accuracy: 0.9983 - val_loss: 0.0035 - val_accuracy: 0.9994\n",
      "Epoch 5/10\n",
      "53/53 [==============================] - 65s 1s/step - loss: 0.0052 - accuracy: 0.9986 - val_loss: 0.0020 - val_accuracy: 0.9998\n",
      "Epoch 6/10\n",
      "53/53 [==============================] - 66s 1s/step - loss: 0.0042 - accuracy: 0.9988 - val_loss: 0.0028 - val_accuracy: 0.9994\n",
      "Epoch 7/10\n",
      "53/53 [==============================] - 65s 1s/step - loss: 0.0032 - accuracy: 0.9991 - val_loss: 0.0026 - val_accuracy: 0.9995\n",
      "Epoch 8/10\n",
      "53/53 [==============================] - 69s 1s/step - loss: 0.0029 - accuracy: 0.9993 - val_loss: 0.0033 - val_accuracy: 0.9992\n",
      "Epoch 9/10\n",
      "53/53 [==============================] - 65s 1s/step - loss: 0.0027 - accuracy: 0.9992 - val_loss: 0.0013 - val_accuracy: 0.9998\n",
      "Epoch 10/10\n",
      "53/53 [==============================] - 65s 1s/step - loss: 0.0022 - accuracy: 0.9995 - val_loss: 0.0015 - val_accuracy: 0.9998\n"
     ]
    }
   ],
   "source": [
    "batch_size = 2048\n",
    "epochs = 10\n",
    "\n",
    "model.compile(loss=\"categorical_crossentropy\", optimizer=\"adam\", metrics=[\"accuracy\"])\n",
    "\n",
    "history = model.fit(x_train, y_train, batch_size=batch_size, epochs=epochs, validation_split=0.1)"
   ]
  },
  {
   "cell_type": "code",
   "execution_count": null,
   "metadata": {
    "colab": {
     "base_uri": "https://localhost:8080/",
     "height": 300
    },
    "id": "cmXnWxRavMW4",
    "outputId": "8956ebee-b10b-41e0-b2cc-c23d8a1e7de8"
   },
   "outputs": [
    {
     "data": {
      "text/plain": [
       "<matplotlib.legend.Legend at 0x7f8f5fcf9eb8>"
      ]
     },
     "execution_count": 25,
     "metadata": {
      "tags": []
     },
     "output_type": "execute_result"
    },
    {
     "data": {
      "image/png": "[encoded data removed]",
      "text/plain": [
       "<Figure size 432x288 with 1 Axes>"
      ]
     },
     "metadata": {
      "needs_background": "light",
      "tags": []
     },
     "output_type": "display_data"
    }
   ],
   "source": [
    "plt.plot(history.history['accuracy'], label='accuracy')\n",
    "plt.plot(history.history['val_accuracy'], label = 'val_accuracy')\n",
    "\n",
    "plt.xlabel('Epoch')\n",
    "plt.ylabel('Accuracy')\n",
    "\n",
    "plt.ylim([0.98, 1])\n",
    "plt.legend(loc='lower right')"
   ]
  },
  {
   "cell_type": "code",
   "execution_count": null,
   "metadata": {
    "colab": {
     "base_uri": "https://localhost:8080/"
    },
    "id": "4Ws7zp6V7qa4",
    "outputId": "6a7aa9fd-ef6c-4d7b-edff-a62541facff2"
   },
   "outputs": [
    {
     "name": "stdout",
     "output_type": "stream",
     "text": [
      "Test loss: 0.001124349539168179\n",
      "Test accuracy: 0.999750018119812\n"
     ]
    }
   ],
   "source": [
    "score = model.evaluate(x_test, y_test, verbose=0)\n",
    "print(\"Test loss:\", score[0])\n",
    "print(\"Test accuracy:\", score[1])"
   ]
  }
 ],
 "metadata": {
  "colab": {
   "collapsed_sections": [],
   "name": "Лабораторная работа 2",
   "provenance": [],
   "toc_visible": true
  },
  "kernelspec": {
   "display_name": "Python 3",
   "language": "python",
   "name": "python3"
  },
  "language_info": {
   "codemirror_mode": {
    "name": "ipython",
    "version": 3
   },
   "file_extension": ".py",
   "mimetype": "text/x-python",
   "name": "python",
   "nbconvert_exporter": "python",
   "pygments_lexer": "ipython3",
   "version": "3.7.4"
  }
 },
 "nbformat": 4,
 "nbformat_minor": 1
}
